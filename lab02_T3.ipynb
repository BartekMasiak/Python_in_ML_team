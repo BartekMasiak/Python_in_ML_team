{
  "nbformat": 4,
  "nbformat_minor": 0,
  "metadata": {
    "colab": {
      "provenance": [],
      "include_colab_link": true
    },
    "kernelspec": {
      "name": "python3",
      "display_name": "Python 3"
    },
    "language_info": {
      "name": "python"
    }
  },
  "cells": [
    {
      "cell_type": "markdown",
      "metadata": {
        "id": "view-in-github",
        "colab_type": "text"
      },
      "source": [
        "<a href=\"https://colab.research.google.com/github/BartekMasiak/Python_in_ML_team/blob/main/lab02_T3.ipynb\" target=\"_parent\"><img src=\"https://colab.research.google.com/assets/colab-badge.svg\" alt=\"Open In Colab\"/></a>"
      ]
    },
    {
      "cell_type": "code",
      "execution_count": 2,
      "metadata": {
        "id": "iWcXsrpuSjcV"
      },
      "outputs": [],
      "source": [
        "def fun1():\n",
        "  print('Mikolaj')\n",
        "  return"
      ]
    },
    {
      "cell_type": "code",
      "source": [
        "def fun2():\n",
        "  print(\"Bartek\")\n",
        "  return"
      ],
      "metadata": {
        "id": "T2meXXEYStJ-"
      },
      "execution_count": 6,
      "outputs": []
    },
    {
      "cell_type": "code",
      "source": [
        "def fun3():\n",
        "\n",
        "  return"
      ],
      "metadata": {
        "id": "KeCaXzjYSvUV"
      },
      "execution_count": null,
      "outputs": []
    },
    {
      "cell_type": "code",
      "source": [
        "def fun4():\n",
        "\n",
        "  return"
      ],
      "metadata": {
        "id": "MZnYoizfSxvF"
      },
      "execution_count": null,
      "outputs": []
    },
    {
      "cell_type": "code",
      "source": [
        "fun1()\n",
        "\n",
        "fun2()\n",
        "\n",
        "fun3()\n",
        "\n",
        "fun4()\n"
      ],
      "metadata": {
        "id": "qno4RFG0S1Sk",
        "outputId": "ad149c82-4b07-47b1-c3fe-2bb3e33dc03b",
        "colab": {
          "base_uri": "https://localhost:8080/"
        }
      },
      "execution_count": 8,
      "outputs": [
        {
          "output_type": "stream",
          "name": "stdout",
          "text": [
            "Mikolaj\n",
            "Bartek\n"
          ]
        }
      ]
    },
    {
      "cell_type": "code",
      "source": [],
      "metadata": {
        "id": "Z-gt2LmpXTUF"
      },
      "execution_count": null,
      "outputs": []
    }
  ]
}