{
  "nbformat": 4,
  "nbformat_minor": 0,
  "metadata": {
    "colab": {
      "provenance": [],
      "authorship_tag": "ABX9TyOemA9VVrPl6LOLDcjqvbnS",

      "include_colab_link": true
    },
    "kernelspec": {
      "name": "python3",
      "display_name": "Python 3"
    },
    "language_info": {
      "name": "python"
    }
  },
  "cells": [
    {
      "cell_type": "markdown",
      "metadata": {
        "id": "view-in-github",
        "colab_type": "text"
      },
      "source": [
        "<a href=\"https://colab.research.google.com/github/BartekMasiak/Python_in_ML_team/blob/branchMikolaj/lab02_T3.ipynb\" target=\"_parent\"><img src=\"https://colab.research.google.com/assets/colab-badge.svg\" alt=\"Open In Colab\"/></a>"

      ]
    },
    {
      "cell_type": "code",
      "execution_count": null,
      "metadata": {
        "id": "iWcXsrpuSjcV"
      },
      "outputs": [],
      "source": [
        "def fun1():\n",
        "  print('Mikolaj')\n",
        "  return"
      ]
    },
    {
      "cell_type": "code",
      "source": [
        "def fun2():\n",
        "  print(\"Bartek\")\n",
        "  return"
      ],
      "metadata": {
        "id": "T2meXXEYStJ-"
      },
      "execution_count": null,
      "outputs": []
    },
    {
      "cell_type": "code",
      "source": [
        "def fun3():\n",
        "\n",
        "  return"
      ],
      "metadata": {
        "id": "KeCaXzjYSvUV"
      },
      "execution_count": null,
      "outputs": []
    },
    {
      "cell_type": "code",
      "source": [
        "def fun4():\n",
        "\n",
        "  return"
      ],
      "metadata": {
        "id": "MZnYoizfSxvF"
      },
      "execution_count": null,
      "outputs": []
    },
    {
      "cell_type": "code",
      "source": [
        "def fun1():\n",
        "\n",
        "  return\n",
        "\n",
        "def fun2():\n",
        "\n",
        "  return\n",
        "\n",
        "def fun3():\n",
        "\n",
        "  return\n",
        "\n",
        "def fun4():\n",
        "\n",
        "  return"
      ],
      "metadata": {
        "id": "qno4RFG0S1Sk"
      },
      "execution_count": null,
      "outputs": []
    }
  ]
}